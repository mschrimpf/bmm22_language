{
 "cells": [
  {
   "cell_type": "markdown",
   "source": [
    "## Data"
   ],
   "metadata": {
    "collapsed": false,
    "pycharm": {
     "name": "#%% md\n"
    }
   }
  },
  {
   "cell_type": "code",
   "execution_count": 1,
   "metadata": {
    "collapsed": true
   },
   "outputs": [
    {
     "name": "stderr",
     "output_type": "stream",
     "text": [
      "C:\\ProgramData\\Miniconda3\\envs\\bmm22language\\lib\\site-packages\\brainscore_core\\metrics\\__init__.py:37: FutureWarning: xarray subclass Score should explicitly define __slots__\n",
      "  class Score(DataAssembly):\n"
     ]
    }
   ],
   "source": [
    "import brainscore_language as bsc\n",
    "import numpy as np\n",
    "from matplotlib import pyplot"
   ]
  },
  {
   "cell_type": "code",
   "execution_count": 2,
   "outputs": [
    {
     "name": "stdout",
     "output_type": "stream",
     "text": [
      "<xarray.NeuroidAssembly 'data' (presentation: 627, neuroid: 13553)>\n",
      "array([[-0.61048431, -0.76491186, -0.79946189, ..., -1.02996304,\n",
      "        -0.42042251,  0.44600733],\n",
      "       [ 1.74291344,  2.00353428,  1.97103177, ..., -0.61647686,\n",
      "        -0.76818191,  2.11936498],\n",
      "       [ 1.01231271,  1.51301567,  1.09312979, ...,  0.6470509 ,\n",
      "         0.18632258,  2.85344239],\n",
      "       ...,\n",
      "       [ 0.4911479 ,  0.97394189,  0.14704561, ...,  0.97622657,\n",
      "         1.07466326,  0.65786844],\n",
      "       [ 1.0331004 ,  1.5348565 ,  0.84328902, ..., -0.8361398 ,\n",
      "        -0.52408963,  0.73715778],\n",
      "       [ 0.53970481,  0.98636439,  0.53409886, ..., -0.03957355,\n",
      "        -0.06988947,  2.10925683]])\n",
      "Coordinates:\n",
      "  * presentation      (presentation) MultiIndex\n",
      "  - stimulus_num      (presentation) int64 0 0 1 1 2 2 ... 379 380 381 382 383\n",
      "  - sentence          (presentation) object 'An accordion is a portable music...\n",
      "  - stimulus          (presentation) object 'An accordion is a portable music...\n",
      "  - passage_index     (presentation) int64 1 1 1 1 1 1 1 ... 95 95 96 96 96 96\n",
      "  - passage_label     (presentation) object 'Accordion' 'beekeeping' ... 'Woman'\n",
      "  - passage_category  (presentation) object 'music' 'beekeeping' ... 'human'\n",
      "  - stimulus_id       (presentation) object '384sentences.0' ... '384sentence...\n",
      "  - story             (presentation) object '384sentences.music' ... '384sent...\n",
      "  - experiment        (presentation) object '384sentences' ... '384sentences'\n",
      "  * neuroid           (neuroid) MultiIndex\n",
      "  - subject           (neuroid) object '018' '018' '018' ... '426' '426' '426'\n",
      "  - voxel_num         (neuroid) int64 28 29 31 32 38 ... 29796 29797 29798 30493\n",
      "  - filter_strategy   (neuroid) float64 nan nan nan nan nan ... nan nan nan nan\n",
      "  - atlas_selection   (neuroid) object 'from90to100prcnt' ... 'from90to100prcnt'\n",
      "  - roi               (neuroid) object 'LH_AntTemp' 'LH_AntTemp' ... 'LH_MFG'\n",
      "  - indices_in_3d     (neuroid) int64 72505 72506 72584 ... 395019 395020 402487\n",
      "  - col_to_coord_1    (neuroid) int64 62 63 62 63 63 63 63 ... 61 62 18 19 20 61\n",
      "  - col_to_coord_2    (neuroid) int64 63 63 64 64 65 66 63 ... 60 60 61 61 61 60\n",
      "  - col_to_coord_3    (neuroid) int64 10 10 10 10 10 10 11 ... 53 53 53 53 53 54\n",
      "  - neuroid_id        (neuroid) object '018.28' '018.29' ... '426.30493'\n",
      "Attributes:\n",
      "    identifier:  Pereira2018.language_system\n"
     ]
    }
   ],
   "source": [
    "language_data = bsc.load_dataset('Pereira2018.language_system')\n",
    "print(language_data)"
   ],
   "metadata": {
    "collapsed": false,
    "pycharm": {
     "name": "#%%\n"
    }
   }
  },
  {
   "cell_type": "code",
   "execution_count": 3,
   "outputs": [
    {
     "name": "stdout",
     "output_type": "stream",
     "text": [
      "<xarray.NeuroidAssembly 'data' (presentation: 627, neuroid: 5692)>\n",
      "array([[ 0.68092518,  0.63900351, -0.20867088, ..., -0.45452631,\n",
      "        -0.03092201,  0.57868715],\n",
      "       [-0.23841821, -0.14182175,  0.67227796, ...,  0.69823596,\n",
      "         0.47090873,  0.87556353],\n",
      "       [ 0.53387987,  0.45148941, -0.24180219, ..., -1.38130661,\n",
      "        -0.80479636, -0.36178319],\n",
      "       ...,\n",
      "       [-0.16772716, -0.13755608,  0.34265821, ...,  0.86163011,\n",
      "         0.65541437,  1.61356854],\n",
      "       [-0.36079611, -0.37692265,  0.71815238, ...,  1.08892836,\n",
      "         1.25366104,  2.31186954],\n",
      "       [-1.09236993, -1.14955853, -0.36788984, ...,  0.44330099,\n",
      "         0.71736145,  1.65385607]])\n",
      "Coordinates:\n",
      "  * presentation      (presentation) MultiIndex\n",
      "  - stimulus_num      (presentation) int64 0 0 1 1 2 2 ... 379 380 381 382 383\n",
      "  - passage_index     (presentation) int64 1 1 1 1 1 1 1 ... 95 95 96 96 96 96\n",
      "  - passage_label     (presentation) object 'Accordion' 'beekeeping' ... 'Woman'\n",
      "  - passage_category  (presentation) object 'music' 'beekeeping' ... 'human'\n",
      "  - stimulus_id       (presentation) object '384sentences.0' ... '384sentence...\n",
      "  - story             (presentation) object '384sentences.music' ... '384sent...\n",
      "  - experiment        (presentation) object '384sentences' ... '384sentences'\n",
      "  * neuroid           (neuroid) MultiIndex\n",
      "  - subject           (neuroid) object '018' '018' '018' ... '426' '426' '426'\n",
      "  - voxel_num         (neuroid) int64 2600 2603 3120 3123 ... 13582 13583 13584\n",
      "  - filter_strategy   (neuroid) float64 nan nan nan nan nan ... nan nan nan nan\n",
      "  - atlas_selection   (neuroid) object 'from90to100prcnt' ... 'from90to100prcnt'\n",
      "  - roi               (neuroid) object 'LH_TE12' 'LH_TE12' ... 'RH_TE11'\n",
      "  - indices_in_3d     (neuroid) int64 162014 162093 169362 ... 265975 266015\n",
      "  - col_to_coord_1    (neuroid) int64 64 64 65 64 65 64 65 ... 61 19 22 60 61 22\n",
      "  - col_to_coord_2    (neuroid) int64 56 57 54 55 55 56 56 ... 43 44 44 42 42 43\n",
      "  - col_to_coord_3    (neuroid) int64 22 22 23 23 23 23 23 ... 35 35 35 36 36 36\n",
      "  - neuroid_id        (neuroid) object '018.2600' '018.2603' ... '426.13584'\n",
      "Attributes:\n",
      "    identifier:  Pereira2018.auditory\n"
     ]
    }
   ],
   "source": [
    "auditory_data = bsc.load_dataset('Pereira2018.auditory')\n",
    "print(auditory_data)"
   ],
   "metadata": {
    "collapsed": false,
    "pycharm": {
     "name": "#%%\n"
    }
   }
  },
  {
   "cell_type": "code",
   "execution_count": 4,
   "outputs": [
    {
     "name": "stderr",
     "output_type": "stream",
     "text": [
      "C:\\Users\\Martin\\AppData\\Local\\Temp\\ipykernel_26112\\97946210.py:14: UserWarning: Matplotlib is currently using module://matplotlib_inline.backend_inline, which is a non-GUI backend, so cannot show the figure.\n",
      "  fig.show()\n"
     ]
    },
    {
     "data": {
      "text/plain": "<Figure size 432x288 with 1 Axes>",
      "image/png": "[encoded data removed]"
     },
     "metadata": {
      "needs_background": "light"
     },
     "output_type": "display_data"
    }
   ],
   "source": [
    "# plot difference\n",
    "fig, ax = pyplot.subplots()\n",
    "nbins = 100\n",
    "ax.hist(language_data.median('neuroid').values.flatten(), bins=nbins, color='red', label='language')\n",
    "ax.hist(auditory_data.median('neuroid').values.flatten(), bins=nbins, color='gray', label='auditory')\n",
    "language_mean = language_data.median('neuroid').mean()\n",
    "auditory_mean = auditory_data.median('neuroid').mean()\n",
    "ax.plot([language_mean, language_mean], [0, 25], color='red', linestyle='dashed')\n",
    "ax.plot([auditory_mean, auditory_mean], [0, 25], color='gray', linestyle='dashed')\n",
    "ax.set_xlim([-1, 1])\n",
    "ax.set_xlabel('Normalized voxel response (across sentences)')\n",
    "ax.set_ylabel('Frequency')\n",
    "ax.legend()\n",
    "fig.show()"
   ],
   "metadata": {
    "collapsed": false,
    "pycharm": {
     "name": "#%%\n"
    }
   }
  },
  {
   "cell_type": "markdown",
   "source": [
    "Model"
   ],
   "metadata": {
    "collapsed": false,
    "pycharm": {
     "name": "#%% md\n"
    }
   }
  },
  {
   "cell_type": "code",
   "execution_count": 5,
   "outputs": [
    {
     "name": "stdout",
     "output_type": "stream",
     "text": [
      "GPT2LMHeadModel(\n",
      "  (transformer): GPT2Model(\n",
      "    (wte): Embedding(50257, 768)\n",
      "    (wpe): Embedding(1024, 768)\n",
      "    (drop): Dropout(p=0.1, inplace=False)\n",
      "    (h): ModuleList(\n",
      "      (0): GPT2Block(\n",
      "        (ln_1): LayerNorm((768,), eps=1e-05, elementwise_affine=True)\n",
      "        (attn): GPT2Attention(\n",
      "          (c_attn): Conv1D()\n",
      "          (c_proj): Conv1D()\n",
      "          (attn_dropout): Dropout(p=0.1, inplace=False)\n",
      "          (resid_dropout): Dropout(p=0.1, inplace=False)\n",
      "        )\n",
      "        (ln_2): LayerNorm((768,), eps=1e-05, elementwise_affine=True)\n",
      "        (mlp): GPT2MLP(\n",
      "          (c_fc): Conv1D()\n",
      "          (c_proj): Conv1D()\n",
      "          (act): NewGELUActivation()\n",
      "          (dropout): Dropout(p=0.1, inplace=False)\n",
      "        )\n",
      "      )\n",
      "      (1): GPT2Block(\n",
      "        (ln_1): LayerNorm((768,), eps=1e-05, elementwise_affine=True)\n",
      "        (attn): GPT2Attention(\n",
      "          (c_attn): Conv1D()\n",
      "          (c_proj): Conv1D()\n",
      "          (attn_dropout): Dropout(p=0.1, inplace=False)\n",
      "          (resid_dropout): Dropout(p=0.1, inplace=False)\n",
      "        )\n",
      "        (ln_2): LayerNorm((768,), eps=1e-05, elementwise_affine=True)\n",
      "        (mlp): GPT2MLP(\n",
      "          (c_fc): Conv1D()\n",
      "          (c_proj): Conv1D()\n",
      "          (act): NewGELUActivation()\n",
      "          (dropout): Dropout(p=0.1, inplace=False)\n",
      "        )\n",
      "      )\n",
      "      (2): GPT2Block(\n",
      "        (ln_1): LayerNorm((768,), eps=1e-05, elementwise_affine=True)\n",
      "        (attn): GPT2Attention(\n",
      "          (c_attn): Conv1D()\n",
      "          (c_proj): Conv1D()\n",
      "          (attn_dropout): Dropout(p=0.1, inplace=False)\n",
      "          (resid_dropout): Dropout(p=0.1, inplace=False)\n",
      "        )\n",
      "        (ln_2): LayerNorm((768,), eps=1e-05, elementwise_affine=True)\n",
      "        (mlp): GPT2MLP(\n",
      "          (c_fc): Conv1D()\n",
      "          (c_proj): Conv1D()\n",
      "          (act): NewGELUActivation()\n",
      "          (dropout): Dropout(p=0.1, inplace=False)\n",
      "        )\n",
      "      )\n",
      "      (3): GPT2Block(\n",
      "        (ln_1): LayerNorm((768,), eps=1e-05, elementwise_affine=True)\n",
      "        (attn): GPT2Attention(\n",
      "          (c_attn): Conv1D()\n",
      "          (c_proj): Conv1D()\n",
      "          (attn_dropout): Dropout(p=0.1, inplace=False)\n",
      "          (resid_dropout): Dropout(p=0.1, inplace=False)\n",
      "        )\n",
      "        (ln_2): LayerNorm((768,), eps=1e-05, elementwise_affine=True)\n",
      "        (mlp): GPT2MLP(\n",
      "          (c_fc): Conv1D()\n",
      "          (c_proj): Conv1D()\n",
      "          (act): NewGELUActivation()\n",
      "          (dropout): Dropout(p=0.1, inplace=False)\n",
      "        )\n",
      "      )\n",
      "      (4): GPT2Block(\n",
      "        (ln_1): LayerNorm((768,), eps=1e-05, elementwise_affine=True)\n",
      "        (attn): GPT2Attention(\n",
      "          (c_attn): Conv1D()\n",
      "          (c_proj): Conv1D()\n",
      "          (attn_dropout): Dropout(p=0.1, inplace=False)\n",
      "          (resid_dropout): Dropout(p=0.1, inplace=False)\n",
      "        )\n",
      "        (ln_2): LayerNorm((768,), eps=1e-05, elementwise_affine=True)\n",
      "        (mlp): GPT2MLP(\n",
      "          (c_fc): Conv1D()\n",
      "          (c_proj): Conv1D()\n",
      "          (act): NewGELUActivation()\n",
      "          (dropout): Dropout(p=0.1, inplace=False)\n",
      "        )\n",
      "      )\n",
      "      (5): GPT2Block(\n",
      "        (ln_1): LayerNorm((768,), eps=1e-05, elementwise_affine=True)\n",
      "        (attn): GPT2Attention(\n",
      "          (c_attn): Conv1D()\n",
      "          (c_proj): Conv1D()\n",
      "          (attn_dropout): Dropout(p=0.1, inplace=False)\n",
      "          (resid_dropout): Dropout(p=0.1, inplace=False)\n",
      "        )\n",
      "        (ln_2): LayerNorm((768,), eps=1e-05, elementwise_affine=True)\n",
      "        (mlp): GPT2MLP(\n",
      "          (c_fc): Conv1D()\n",
      "          (c_proj): Conv1D()\n",
      "          (act): NewGELUActivation()\n",
      "          (dropout): Dropout(p=0.1, inplace=False)\n",
      "        )\n",
      "      )\n",
      "    )\n",
      "    (ln_f): LayerNorm((768,), eps=1e-05, elementwise_affine=True)\n",
      "  )\n",
      "  (lm_head): Linear(in_features=768, out_features=50257, bias=False)\n",
      ")\n"
     ]
    }
   ],
   "source": [
    "from transformers import AutoModelForCausalLM, AutoTokenizer\n",
    "import torch\n",
    "\n",
    "model_id = 'distilgpt2'  # use 'gpt2-xl' for better results (requires downloading 6GB of weights)\n",
    "\n",
    "model = AutoModelForCausalLM.from_pretrained(model_id)\n",
    "tokenizer = AutoTokenizer.from_pretrained(model_id)\n",
    "print(model)"
   ],
   "metadata": {
    "collapsed": false,
    "pycharm": {
     "name": "#%%\n"
    }
   }
  },
  {
   "cell_type": "code",
   "execution_count": 6,
   "outputs": [
    {
     "name": "stdout",
     "output_type": "stream",
     "text": [
      "the quick brown fox >> es\n",
      "the quick brown fox jumps over the lazy >>  fox\n",
      "brains, minds, and >>  minds\n"
     ]
    }
   ],
   "source": [
    "def predict_next_word(text):\n",
    "    tokenized_inputs = tokenizer(text, return_tensors=\"pt\")\n",
    "\n",
    "    with torch.no_grad():\n",
    "        output = model(**tokenized_inputs)\n",
    "\n",
    "    logits = output.logits\n",
    "    pred_id = torch.argmax(logits, axis=2).squeeze()\n",
    "    last_model_token_inference = pred_id[-1].tolist()\n",
    "    next_word = tokenizer.decode(last_model_token_inference)\n",
    "    print(f\"{text} >> {next_word}\")\n",
    "\n",
    "\n",
    "predict_next_word('the quick brown fox')\n",
    "predict_next_word('the quick brown fox jumps over the lazy')\n",
    "predict_next_word('brains, minds, and')"
   ],
   "metadata": {
    "collapsed": false,
    "pycharm": {
     "name": "#%%\n"
    }
   }
  },
  {
   "cell_type": "markdown",
   "source": [
    "Benchmarking model-brain comparisons"
   ],
   "metadata": {
    "collapsed": false,
    "pycharm": {
     "name": "#%% md\n"
    }
   }
  },
  {
   "cell_type": "code",
   "execution_count": 7,
   "outputs": [],
   "source": [
    "def hack_because_library_in_alpha(model_activity, stimulus_id):\n",
    "    model_activity = model_activity.reset_index('presentation')\n",
    "    model_activity['stimulus_id'] = 'presentation', [stimulus_id]\n",
    "    model_activity = model_activity.set_index(presentation=['context', 'stimulus_id'])\n",
    "    return model_activity"
   ],
   "metadata": {
    "collapsed": false,
    "pycharm": {
     "name": "#%%\n"
    }
   }
  },
  {
   "cell_type": "code",
   "execution_count": 8,
   "outputs": [
    {
     "name": "stderr",
     "output_type": "stream",
     "text": [
      "run stimuli on model: 100%|██████████| 627/627 [00:47<00:00, 13.31it/s]\n"
     ]
    },
    {
     "name": "stdout",
     "output_type": "stream",
     "text": [
      "<xarray.NeuroidAssembly (presentation: 627, neuroid: 768)>\n",
      "array([[-0.876441  ,  0.100577  ,  1.3807594 , ...,  0.94760895,\n",
      "         1.2632831 , -0.23020035],\n",
      "       [-0.8609741 ,  0.00902465,  2.686772  , ...,  0.3886986 ,\n",
      "         2.2277107 ,  0.71726346],\n",
      "       [ 0.05453134,  0.06689322, -0.1958804 , ...,  0.779179  ,\n",
      "         0.26571858,  0.5545976 ],\n",
      "       ...,\n",
      "       [-2.4832854 ,  1.9607823 ,  1.2738047 , ...,  0.36847126,\n",
      "         2.5284534 ,  0.5072168 ],\n",
      "       [ 0.958543  , -0.17880774,  1.3926065 , ...,  0.2954378 ,\n",
      "         1.3826574 , -2.094374  ],\n",
      "       [-0.20919693,  0.983678  , -1.0539823 , ...,  0.83493847,\n",
      "         2.5720212 , -2.097294  ]], dtype=float32)\n",
      "Coordinates:\n",
      "  * presentation            (presentation) MultiIndex\n",
      "  - context                 (presentation) object 'A banana is a long fruit t...\n",
      "  - stimulus_id             (presentation) object '384sentences.24' ... '384s...\n",
      "  * neuroid                 (neuroid) MultiIndex\n",
      "  - layer                   (neuroid) object 'transformer.h.5.mlp.dropout' .....\n",
      "  - region                  (neuroid) object 'language_system' ... 'language_...\n",
      "  - neuron_number_in_layer  (neuroid) int64 0 1 2 3 4 5 ... 763 764 765 766 767\n",
      "  - neuroid_id              (neuroid) object 'transformer.h.5.mlp.dropout--0'...\n"
     ]
    },
    {
     "name": "stderr",
     "output_type": "stream",
     "text": [
      "cross-validation: 100%|██████████| 10/10 [01:58<00:00, 11.87s/it]"
     ]
    },
    {
     "name": "stdout",
     "output_type": "stream",
     "text": [
      "<xarray.Score (aggregation: 2)>\n",
      "array([0.08231155, 0.00802337])\n",
      "Coordinates:\n",
      "  * aggregation  (aggregation) <U6 'center' 'error'\n",
      "Attributes:\n",
      "    raw:      <xarray.Score (split: 10, neuroid: 6669)>\\narray([[ 0.08533892,...\n",
      "<xarray.Score (aggregation: 2)>\n",
      "array([0.25722359, 0.02507303])\n",
      "Coordinates:\n",
      "  * aggregation  (aggregation) <U6 'center' 'error'\n"
     ]
    },
    {
     "name": "stderr",
     "output_type": "stream",
     "text": [
      "\n"
     ]
    }
   ],
   "source": [
    "from brainscore_language.artificial_subject import ArtificialSubject\n",
    "from brainscore_language.models.huggingface import HuggingfaceSubject\n",
    "from brainio.assemblies import merge_data_arrays\n",
    "from tqdm import tqdm\n",
    "\n",
    "artificial_subject = HuggingfaceSubject(\n",
    "    model_id='distilgpt2',\n",
    "    region_layer_mapping={ArtificialSubject.RecordingTarget.language_system:\n",
    "                              'transformer.h.5.mlp.dropout'})\n",
    "\n",
    "# the following is what a benchmark might run:\n",
    "# - run same experiment on model\n",
    "artificial_subject.perform_neural_recording(\n",
    "    recording_target=ArtificialSubject.RecordingTarget.language_system,\n",
    "    recording_type=ArtificialSubject.RecordingType.spikerate_exact)\n",
    "model_activities = []\n",
    "for stimulus_id, text in tqdm(\n",
    "        zip(language_data['stimulus_id'].values, language_data['stimulus'].values),\n",
    "        desc='run stimuli on model', total=len(language_data['presentation'])):\n",
    "    model_activity = artificial_subject.digest_text(text)['neural']\n",
    "    model_activity = hack_because_library_in_alpha(model_activity, stimulus_id)\n",
    "    model_activities.append(model_activity)\n",
    "model_activities = merge_data_arrays(model_activities)\n",
    "print(model_activities)\n",
    "\n",
    "# - score model predictions on data (we're ignoring ceilings here)\n",
    "metric = bsc.load_metric('linear_predictivity', crossvalidation_kwargs=dict(\n",
    "    split_coord='stimulus_id'))\n",
    "target_data = language_data.dropna('neuroid')  # some subjects have only done one experiment\n",
    "raw_score = metric(model_activities, target_data)\n",
    "print(raw_score)\n",
    "ceiling = 0.32  # from paper\n",
    "score = raw_score / ceiling\n",
    "print(score)\n"
   ],
   "metadata": {
    "collapsed": false,
    "pycharm": {
     "name": "#%%\n"
    }
   }
  }
 ],
 "metadata": {
  "kernelspec": {
   "display_name": "Python 3",
   "language": "python",
   "name": "python3"
  },
  "language_info": {
   "codemirror_mode": {
    "name": "ipython",
    "version": 2
   },
   "file_extension": ".py",
   "mimetype": "text/x-python",
   "name": "python",
   "nbconvert_exporter": "python",
   "pygments_lexer": "ipython2",
   "version": "2.7.6"
  }
 },
 "nbformat": 4,
 "nbformat_minor": 0
}